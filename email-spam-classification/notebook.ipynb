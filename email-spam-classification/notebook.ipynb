{
 "cells": [
  {
   "cell_type": "code",
   "execution_count": 48,
   "outputs": [],
   "source": [
    "import numpy as np\n",
    "import pandas as pd\n",
    "import matplotlib.pyplot as plt\n",
    "\n",
    "%matplotlib inline"
   ],
   "metadata": {
    "collapsed": false,
    "pycharm": {
     "name": "#%%\n"
    }
   }
  },
  {
   "cell_type": "markdown",
   "source": [
    "Import csv file"
   ],
   "metadata": {
    "collapsed": false,
    "pycharm": {
     "name": "#%% md\n"
    }
   }
  },
  {
   "cell_type": "code",
   "execution_count": 49,
   "outputs": [
    {
     "data": {
      "text/plain": "           the  to  ect  and  for  of    a  you  hou  in  ...  connevey  jay  \\\nEmail No.                                                 ...                  \nEmail 1      0   0    1    0    0   0    2    0    0   0  ...         0    0   \nEmail 2      8  13   24    6    6   2  102    1   27  18  ...         0    0   \nEmail 3      0   0    1    0    0   0    8    0    0   4  ...         0    0   \nEmail 4      0   5   22    0    5   1   51    2   10   1  ...         0    0   \nEmail 5      7   6   17    1    5   2   57    0    9   3  ...         0    0   \n\n           valued  lay  infrastructure  military  allowing  ff  dry  \\\nEmail No.                                                             \nEmail 1         0    0               0         0         0   0    0   \nEmail 2         0    0               0         0         0   1    0   \nEmail 3         0    0               0         0         0   0    0   \nEmail 4         0    0               0         0         0   0    0   \nEmail 5         0    0               0         0         0   1    0   \n\n           Prediction  \nEmail No.              \nEmail 1             0  \nEmail 2             0  \nEmail 3             0  \nEmail 4             0  \nEmail 5             0  \n\n[5 rows x 3001 columns]",
      "text/html": "<div>\n<style scoped>\n    .dataframe tbody tr th:only-of-type {\n        vertical-align: middle;\n    }\n\n    .dataframe tbody tr th {\n        vertical-align: top;\n    }\n\n    .dataframe thead th {\n        text-align: right;\n    }\n</style>\n<table border=\"1\" class=\"dataframe\">\n  <thead>\n    <tr style=\"text-align: right;\">\n      <th></th>\n      <th>the</th>\n      <th>to</th>\n      <th>ect</th>\n      <th>and</th>\n      <th>for</th>\n      <th>of</th>\n      <th>a</th>\n      <th>you</th>\n      <th>hou</th>\n      <th>in</th>\n      <th>...</th>\n      <th>connevey</th>\n      <th>jay</th>\n      <th>valued</th>\n      <th>lay</th>\n      <th>infrastructure</th>\n      <th>military</th>\n      <th>allowing</th>\n      <th>ff</th>\n      <th>dry</th>\n      <th>Prediction</th>\n    </tr>\n    <tr>\n      <th>Email No.</th>\n      <th></th>\n      <th></th>\n      <th></th>\n      <th></th>\n      <th></th>\n      <th></th>\n      <th></th>\n      <th></th>\n      <th></th>\n      <th></th>\n      <th></th>\n      <th></th>\n      <th></th>\n      <th></th>\n      <th></th>\n      <th></th>\n      <th></th>\n      <th></th>\n      <th></th>\n      <th></th>\n      <th></th>\n    </tr>\n  </thead>\n  <tbody>\n    <tr>\n      <th>Email 1</th>\n      <td>0</td>\n      <td>0</td>\n      <td>1</td>\n      <td>0</td>\n      <td>0</td>\n      <td>0</td>\n      <td>2</td>\n      <td>0</td>\n      <td>0</td>\n      <td>0</td>\n      <td>...</td>\n      <td>0</td>\n      <td>0</td>\n      <td>0</td>\n      <td>0</td>\n      <td>0</td>\n      <td>0</td>\n      <td>0</td>\n      <td>0</td>\n      <td>0</td>\n      <td>0</td>\n    </tr>\n    <tr>\n      <th>Email 2</th>\n      <td>8</td>\n      <td>13</td>\n      <td>24</td>\n      <td>6</td>\n      <td>6</td>\n      <td>2</td>\n      <td>102</td>\n      <td>1</td>\n      <td>27</td>\n      <td>18</td>\n      <td>...</td>\n      <td>0</td>\n      <td>0</td>\n      <td>0</td>\n      <td>0</td>\n      <td>0</td>\n      <td>0</td>\n      <td>0</td>\n      <td>1</td>\n      <td>0</td>\n      <td>0</td>\n    </tr>\n    <tr>\n      <th>Email 3</th>\n      <td>0</td>\n      <td>0</td>\n      <td>1</td>\n      <td>0</td>\n      <td>0</td>\n      <td>0</td>\n      <td>8</td>\n      <td>0</td>\n      <td>0</td>\n      <td>4</td>\n      <td>...</td>\n      <td>0</td>\n      <td>0</td>\n      <td>0</td>\n      <td>0</td>\n      <td>0</td>\n      <td>0</td>\n      <td>0</td>\n      <td>0</td>\n      <td>0</td>\n      <td>0</td>\n    </tr>\n    <tr>\n      <th>Email 4</th>\n      <td>0</td>\n      <td>5</td>\n      <td>22</td>\n      <td>0</td>\n      <td>5</td>\n      <td>1</td>\n      <td>51</td>\n      <td>2</td>\n      <td>10</td>\n      <td>1</td>\n      <td>...</td>\n      <td>0</td>\n      <td>0</td>\n      <td>0</td>\n      <td>0</td>\n      <td>0</td>\n      <td>0</td>\n      <td>0</td>\n      <td>0</td>\n      <td>0</td>\n      <td>0</td>\n    </tr>\n    <tr>\n      <th>Email 5</th>\n      <td>7</td>\n      <td>6</td>\n      <td>17</td>\n      <td>1</td>\n      <td>5</td>\n      <td>2</td>\n      <td>57</td>\n      <td>0</td>\n      <td>9</td>\n      <td>3</td>\n      <td>...</td>\n      <td>0</td>\n      <td>0</td>\n      <td>0</td>\n      <td>0</td>\n      <td>0</td>\n      <td>0</td>\n      <td>0</td>\n      <td>1</td>\n      <td>0</td>\n      <td>0</td>\n    </tr>\n  </tbody>\n</table>\n<p>5 rows × 3001 columns</p>\n</div>"
     },
     "execution_count": 49,
     "metadata": {},
     "output_type": "execute_result"
    }
   ],
   "source": [
    "emails = pd.read_csv('emails.csv', index_col=[0])\n",
    "emails.head()"
   ],
   "metadata": {
    "collapsed": false,
    "pycharm": {
     "name": "#%%\n"
    }
   }
  },
  {
   "cell_type": "code",
   "execution_count": 50,
   "outputs": [
    {
     "data": {
      "text/plain": "            the  to  ect  and  for  of    a  you  hou  in  ...  connevey  jay  \\\nEmail No.                                                  ...                  \nEmail 5168    2   2    2    3    0   0   32    0    0   5  ...         0    0   \nEmail 5169   35  27   11    2    6   5  151    4    3  23  ...         0    0   \nEmail 5170    0   0    1    1    0   0   11    0    0   1  ...         0    0   \nEmail 5171    2   7    1    0    2   1   28    2    0   8  ...         0    0   \nEmail 5172   22  24    5    1    6   5  148    8    2  23  ...         0    0   \n\n            valued  lay  infrastructure  military  allowing  ff  dry  \\\nEmail No.                                                              \nEmail 5168       0    0               0         0         0   0    0   \nEmail 5169       0    0               0         0         0   1    0   \nEmail 5170       0    0               0         0         0   0    0   \nEmail 5171       0    0               0         0         0   1    0   \nEmail 5172       0    0               0         0         0   0    0   \n\n            Prediction  \nEmail No.               \nEmail 5168           0  \nEmail 5169           0  \nEmail 5170           1  \nEmail 5171           1  \nEmail 5172           0  \n\n[5 rows x 3001 columns]",
      "text/html": "<div>\n<style scoped>\n    .dataframe tbody tr th:only-of-type {\n        vertical-align: middle;\n    }\n\n    .dataframe tbody tr th {\n        vertical-align: top;\n    }\n\n    .dataframe thead th {\n        text-align: right;\n    }\n</style>\n<table border=\"1\" class=\"dataframe\">\n  <thead>\n    <tr style=\"text-align: right;\">\n      <th></th>\n      <th>the</th>\n      <th>to</th>\n      <th>ect</th>\n      <th>and</th>\n      <th>for</th>\n      <th>of</th>\n      <th>a</th>\n      <th>you</th>\n      <th>hou</th>\n      <th>in</th>\n      <th>...</th>\n      <th>connevey</th>\n      <th>jay</th>\n      <th>valued</th>\n      <th>lay</th>\n      <th>infrastructure</th>\n      <th>military</th>\n      <th>allowing</th>\n      <th>ff</th>\n      <th>dry</th>\n      <th>Prediction</th>\n    </tr>\n    <tr>\n      <th>Email No.</th>\n      <th></th>\n      <th></th>\n      <th></th>\n      <th></th>\n      <th></th>\n      <th></th>\n      <th></th>\n      <th></th>\n      <th></th>\n      <th></th>\n      <th></th>\n      <th></th>\n      <th></th>\n      <th></th>\n      <th></th>\n      <th></th>\n      <th></th>\n      <th></th>\n      <th></th>\n      <th></th>\n      <th></th>\n    </tr>\n  </thead>\n  <tbody>\n    <tr>\n      <th>Email 5168</th>\n      <td>2</td>\n      <td>2</td>\n      <td>2</td>\n      <td>3</td>\n      <td>0</td>\n      <td>0</td>\n      <td>32</td>\n      <td>0</td>\n      <td>0</td>\n      <td>5</td>\n      <td>...</td>\n      <td>0</td>\n      <td>0</td>\n      <td>0</td>\n      <td>0</td>\n      <td>0</td>\n      <td>0</td>\n      <td>0</td>\n      <td>0</td>\n      <td>0</td>\n      <td>0</td>\n    </tr>\n    <tr>\n      <th>Email 5169</th>\n      <td>35</td>\n      <td>27</td>\n      <td>11</td>\n      <td>2</td>\n      <td>6</td>\n      <td>5</td>\n      <td>151</td>\n      <td>4</td>\n      <td>3</td>\n      <td>23</td>\n      <td>...</td>\n      <td>0</td>\n      <td>0</td>\n      <td>0</td>\n      <td>0</td>\n      <td>0</td>\n      <td>0</td>\n      <td>0</td>\n      <td>1</td>\n      <td>0</td>\n      <td>0</td>\n    </tr>\n    <tr>\n      <th>Email 5170</th>\n      <td>0</td>\n      <td>0</td>\n      <td>1</td>\n      <td>1</td>\n      <td>0</td>\n      <td>0</td>\n      <td>11</td>\n      <td>0</td>\n      <td>0</td>\n      <td>1</td>\n      <td>...</td>\n      <td>0</td>\n      <td>0</td>\n      <td>0</td>\n      <td>0</td>\n      <td>0</td>\n      <td>0</td>\n      <td>0</td>\n      <td>0</td>\n      <td>0</td>\n      <td>1</td>\n    </tr>\n    <tr>\n      <th>Email 5171</th>\n      <td>2</td>\n      <td>7</td>\n      <td>1</td>\n      <td>0</td>\n      <td>2</td>\n      <td>1</td>\n      <td>28</td>\n      <td>2</td>\n      <td>0</td>\n      <td>8</td>\n      <td>...</td>\n      <td>0</td>\n      <td>0</td>\n      <td>0</td>\n      <td>0</td>\n      <td>0</td>\n      <td>0</td>\n      <td>0</td>\n      <td>1</td>\n      <td>0</td>\n      <td>1</td>\n    </tr>\n    <tr>\n      <th>Email 5172</th>\n      <td>22</td>\n      <td>24</td>\n      <td>5</td>\n      <td>1</td>\n      <td>6</td>\n      <td>5</td>\n      <td>148</td>\n      <td>8</td>\n      <td>2</td>\n      <td>23</td>\n      <td>...</td>\n      <td>0</td>\n      <td>0</td>\n      <td>0</td>\n      <td>0</td>\n      <td>0</td>\n      <td>0</td>\n      <td>0</td>\n      <td>0</td>\n      <td>0</td>\n      <td>0</td>\n    </tr>\n  </tbody>\n</table>\n<p>5 rows × 3001 columns</p>\n</div>"
     },
     "execution_count": 50,
     "metadata": {},
     "output_type": "execute_result"
    }
   ],
   "source": [
    "emails.tail()"
   ],
   "metadata": {
    "collapsed": false,
    "pycharm": {
     "name": "#%%\n"
    }
   }
  },
  {
   "cell_type": "code",
   "execution_count": 51,
   "outputs": [
    {
     "data": {
      "text/plain": "(5172, 3001)"
     },
     "execution_count": 51,
     "metadata": {},
     "output_type": "execute_result"
    }
   ],
   "source": [
    "emails.shape"
   ],
   "metadata": {
    "collapsed": false,
    "pycharm": {
     "name": "#%%\n"
    }
   }
  },
  {
   "cell_type": "code",
   "execution_count": 81,
   "outputs": [
    {
     "data": {
      "text/plain": "               the           to          ect          and          for  \\\ncount  5172.000000  5172.000000  5172.000000  5172.000000  5172.000000   \nmean      6.640565     6.188128     5.143852     3.075599     3.124710   \nstd      11.745009     9.534576    14.101142     6.045970     4.680522   \nmin       0.000000     0.000000     1.000000     0.000000     0.000000   \n25%       0.000000     1.000000     1.000000     0.000000     1.000000   \n50%       3.000000     3.000000     1.000000     1.000000     2.000000   \n75%       8.000000     7.000000     4.000000     3.000000     4.000000   \nmax     210.000000   132.000000   344.000000    89.000000    47.000000   \n\n                of            a          you          hou           in  ...  \\\ncount  5172.000000  5172.000000  5172.000000  5172.000000  5172.000000  ...   \nmean      2.627030    55.517401     2.466551     2.024362    10.600155  ...   \nstd       6.229845    87.574172     4.314444     6.967878    19.281892  ...   \nmin       0.000000     0.000000     0.000000     0.000000     0.000000  ...   \n25%       0.000000    12.000000     0.000000     0.000000     1.000000  ...   \n50%       1.000000    28.000000     1.000000     0.000000     5.000000  ...   \n75%       2.000000    62.250000     3.000000     1.000000    12.000000  ...   \nmax      77.000000  1898.000000    70.000000   167.000000   223.000000  ...   \n\n          connevey          jay       valued          lay  infrastructure  \\\ncount  5172.000000  5172.000000  5172.000000  5172.000000     5172.000000   \nmean      0.005027     0.012568     0.010634     0.098028        0.004254   \nstd       0.105788     0.199682     0.116693     0.569532        0.096252   \nmin       0.000000     0.000000     0.000000     0.000000        0.000000   \n25%       0.000000     0.000000     0.000000     0.000000        0.000000   \n50%       0.000000     0.000000     0.000000     0.000000        0.000000   \n75%       0.000000     0.000000     0.000000     0.000000        0.000000   \nmax       4.000000     7.000000     2.000000    12.000000        3.000000   \n\n          military     allowing           ff          dry   Prediction  \ncount  5172.000000  5172.000000  5172.000000  5172.000000  5172.000000  \nmean      0.006574     0.004060     0.914733     0.006961     0.290023  \nstd       0.138908     0.072145     2.780203     0.098086     0.453817  \nmin       0.000000     0.000000     0.000000     0.000000     0.000000  \n25%       0.000000     0.000000     0.000000     0.000000     0.000000  \n50%       0.000000     0.000000     0.000000     0.000000     0.000000  \n75%       0.000000     0.000000     1.000000     0.000000     1.000000  \nmax       4.000000     3.000000   114.000000     4.000000     1.000000  \n\n[8 rows x 3001 columns]",
      "text/html": "<div>\n<style scoped>\n    .dataframe tbody tr th:only-of-type {\n        vertical-align: middle;\n    }\n\n    .dataframe tbody tr th {\n        vertical-align: top;\n    }\n\n    .dataframe thead th {\n        text-align: right;\n    }\n</style>\n<table border=\"1\" class=\"dataframe\">\n  <thead>\n    <tr style=\"text-align: right;\">\n      <th></th>\n      <th>the</th>\n      <th>to</th>\n      <th>ect</th>\n      <th>and</th>\n      <th>for</th>\n      <th>of</th>\n      <th>a</th>\n      <th>you</th>\n      <th>hou</th>\n      <th>in</th>\n      <th>...</th>\n      <th>connevey</th>\n      <th>jay</th>\n      <th>valued</th>\n      <th>lay</th>\n      <th>infrastructure</th>\n      <th>military</th>\n      <th>allowing</th>\n      <th>ff</th>\n      <th>dry</th>\n      <th>Prediction</th>\n    </tr>\n  </thead>\n  <tbody>\n    <tr>\n      <th>count</th>\n      <td>5172.000000</td>\n      <td>5172.000000</td>\n      <td>5172.000000</td>\n      <td>5172.000000</td>\n      <td>5172.000000</td>\n      <td>5172.000000</td>\n      <td>5172.000000</td>\n      <td>5172.000000</td>\n      <td>5172.000000</td>\n      <td>5172.000000</td>\n      <td>...</td>\n      <td>5172.000000</td>\n      <td>5172.000000</td>\n      <td>5172.000000</td>\n      <td>5172.000000</td>\n      <td>5172.000000</td>\n      <td>5172.000000</td>\n      <td>5172.000000</td>\n      <td>5172.000000</td>\n      <td>5172.000000</td>\n      <td>5172.000000</td>\n    </tr>\n    <tr>\n      <th>mean</th>\n      <td>6.640565</td>\n      <td>6.188128</td>\n      <td>5.143852</td>\n      <td>3.075599</td>\n      <td>3.124710</td>\n      <td>2.627030</td>\n      <td>55.517401</td>\n      <td>2.466551</td>\n      <td>2.024362</td>\n      <td>10.600155</td>\n      <td>...</td>\n      <td>0.005027</td>\n      <td>0.012568</td>\n      <td>0.010634</td>\n      <td>0.098028</td>\n      <td>0.004254</td>\n      <td>0.006574</td>\n      <td>0.004060</td>\n      <td>0.914733</td>\n      <td>0.006961</td>\n      <td>0.290023</td>\n    </tr>\n    <tr>\n      <th>std</th>\n      <td>11.745009</td>\n      <td>9.534576</td>\n      <td>14.101142</td>\n      <td>6.045970</td>\n      <td>4.680522</td>\n      <td>6.229845</td>\n      <td>87.574172</td>\n      <td>4.314444</td>\n      <td>6.967878</td>\n      <td>19.281892</td>\n      <td>...</td>\n      <td>0.105788</td>\n      <td>0.199682</td>\n      <td>0.116693</td>\n      <td>0.569532</td>\n      <td>0.096252</td>\n      <td>0.138908</td>\n      <td>0.072145</td>\n      <td>2.780203</td>\n      <td>0.098086</td>\n      <td>0.453817</td>\n    </tr>\n    <tr>\n      <th>min</th>\n      <td>0.000000</td>\n      <td>0.000000</td>\n      <td>1.000000</td>\n      <td>0.000000</td>\n      <td>0.000000</td>\n      <td>0.000000</td>\n      <td>0.000000</td>\n      <td>0.000000</td>\n      <td>0.000000</td>\n      <td>0.000000</td>\n      <td>...</td>\n      <td>0.000000</td>\n      <td>0.000000</td>\n      <td>0.000000</td>\n      <td>0.000000</td>\n      <td>0.000000</td>\n      <td>0.000000</td>\n      <td>0.000000</td>\n      <td>0.000000</td>\n      <td>0.000000</td>\n      <td>0.000000</td>\n    </tr>\n    <tr>\n      <th>25%</th>\n      <td>0.000000</td>\n      <td>1.000000</td>\n      <td>1.000000</td>\n      <td>0.000000</td>\n      <td>1.000000</td>\n      <td>0.000000</td>\n      <td>12.000000</td>\n      <td>0.000000</td>\n      <td>0.000000</td>\n      <td>1.000000</td>\n      <td>...</td>\n      <td>0.000000</td>\n      <td>0.000000</td>\n      <td>0.000000</td>\n      <td>0.000000</td>\n      <td>0.000000</td>\n      <td>0.000000</td>\n      <td>0.000000</td>\n      <td>0.000000</td>\n      <td>0.000000</td>\n      <td>0.000000</td>\n    </tr>\n    <tr>\n      <th>50%</th>\n      <td>3.000000</td>\n      <td>3.000000</td>\n      <td>1.000000</td>\n      <td>1.000000</td>\n      <td>2.000000</td>\n      <td>1.000000</td>\n      <td>28.000000</td>\n      <td>1.000000</td>\n      <td>0.000000</td>\n      <td>5.000000</td>\n      <td>...</td>\n      <td>0.000000</td>\n      <td>0.000000</td>\n      <td>0.000000</td>\n      <td>0.000000</td>\n      <td>0.000000</td>\n      <td>0.000000</td>\n      <td>0.000000</td>\n      <td>0.000000</td>\n      <td>0.000000</td>\n      <td>0.000000</td>\n    </tr>\n    <tr>\n      <th>75%</th>\n      <td>8.000000</td>\n      <td>7.000000</td>\n      <td>4.000000</td>\n      <td>3.000000</td>\n      <td>4.000000</td>\n      <td>2.000000</td>\n      <td>62.250000</td>\n      <td>3.000000</td>\n      <td>1.000000</td>\n      <td>12.000000</td>\n      <td>...</td>\n      <td>0.000000</td>\n      <td>0.000000</td>\n      <td>0.000000</td>\n      <td>0.000000</td>\n      <td>0.000000</td>\n      <td>0.000000</td>\n      <td>0.000000</td>\n      <td>1.000000</td>\n      <td>0.000000</td>\n      <td>1.000000</td>\n    </tr>\n    <tr>\n      <th>max</th>\n      <td>210.000000</td>\n      <td>132.000000</td>\n      <td>344.000000</td>\n      <td>89.000000</td>\n      <td>47.000000</td>\n      <td>77.000000</td>\n      <td>1898.000000</td>\n      <td>70.000000</td>\n      <td>167.000000</td>\n      <td>223.000000</td>\n      <td>...</td>\n      <td>4.000000</td>\n      <td>7.000000</td>\n      <td>2.000000</td>\n      <td>12.000000</td>\n      <td>3.000000</td>\n      <td>4.000000</td>\n      <td>3.000000</td>\n      <td>114.000000</td>\n      <td>4.000000</td>\n      <td>1.000000</td>\n    </tr>\n  </tbody>\n</table>\n<p>8 rows × 3001 columns</p>\n</div>"
     },
     "execution_count": 81,
     "metadata": {},
     "output_type": "execute_result"
    }
   ],
   "source": [
    "emails.describe()"
   ],
   "metadata": {
    "collapsed": false,
    "pycharm": {
     "name": "#%%\n"
    }
   }
  },
  {
   "cell_type": "markdown",
   "source": [
    "Are there null values in the data set?"
   ],
   "metadata": {
    "collapsed": false,
    "pycharm": {
     "name": "#%% md\n"
    }
   }
  },
  {
   "cell_type": "code",
   "execution_count": 52,
   "outputs": [
    {
     "data": {
      "text/plain": "Email No.\nEmail 1       False\nEmail 2       False\nEmail 3       False\nEmail 4       False\nEmail 5       False\n              ...  \nEmail 5168    False\nEmail 5169    False\nEmail 5170    False\nEmail 5171    False\nEmail 5172    False\nLength: 5172, dtype: bool"
     },
     "execution_count": 52,
     "metadata": {},
     "output_type": "execute_result"
    }
   ],
   "source": [
    "emails.isnull().any(axis=1) # parsing through columns"
   ],
   "metadata": {
    "collapsed": false,
    "pycharm": {
     "name": "#%%\n"
    }
   }
  },
  {
   "cell_type": "code",
   "execution_count": 53,
   "outputs": [
    {
     "name": "stdout",
     "output_type": "stream",
     "text": [
      "There are 0 columns with null values.\n"
     ]
    }
   ],
   "source": [
    "count = 0\n",
    "check = False\n",
    "\n",
    "for i in emails.isnull().any(axis=1):\n",
    "    if i != check:\n",
    "        count += 1\n",
    "print(f'There are {count} columns with null values.')"
   ],
   "metadata": {
    "collapsed": false,
    "pycharm": {
     "name": "#%%\n"
    }
   }
  },
  {
   "cell_type": "markdown",
   "source": [
    "Visualization\n",
    "Visualizing Spam Prediction"
   ],
   "metadata": {
    "collapsed": false,
    "pycharm": {
     "name": "#%% md\n"
    }
   }
  },
  {
   "cell_type": "code",
   "execution_count": 76,
   "outputs": [
    {
     "data": {
      "text/plain": "0    3672\n1    1500\nName: Prediction, dtype: int64"
     },
     "execution_count": 76,
     "metadata": {},
     "output_type": "execute_result"
    }
   ],
   "source": [
    "emails['Prediction'].value_counts()"
   ],
   "metadata": {
    "collapsed": false,
    "pycharm": {
     "name": "#%%\n"
    }
   }
  },
  {
   "cell_type": "code",
   "execution_count": 80,
   "outputs": [
    {
     "data": {
      "text/plain": "<Figure size 504x504 with 1 Axes>",
      "image/png": "[encoded data removed]"
     },
     "metadata": {
      "needs_background": "light"
     },
     "output_type": "display_data"
    }
   ],
   "source": [
    "plt.rcParams['figure.figsize'] = [7, 7]\n",
    "\n",
    "emails['Prediction'].value_counts().plot.barh()\n",
    "plt.yticks([0, 1], ['no_spam', 'spam'])\n",
    "plt.title('Spam Prediction')\n",
    "\n",
    "plt.show()"
   ],
   "metadata": {
    "collapsed": false,
    "pycharm": {
     "name": "#%%\n"
    }
   }
  },
  {
   "cell_type": "markdown",
   "source": [],
   "metadata": {
    "collapsed": false,
    "pycharm": {
     "name": "#%% md\n"
    }
   }
  }
 ],
 "metadata": {
  "kernelspec": {
   "display_name": "Python 3",
   "language": "python",
   "name": "python3"
  },
  "language_info": {
   "codemirror_mode": {
    "name": "ipython",
    "version": 2
   },
   "file_extension": ".py",
   "mimetype": "text/x-python",
   "name": "python",
   "nbconvert_exporter": "python",
   "pygments_lexer": "ipython2",
   "version": "2.7.6"
  }
 },
 "nbformat": 4,
 "nbformat_minor": 0
}