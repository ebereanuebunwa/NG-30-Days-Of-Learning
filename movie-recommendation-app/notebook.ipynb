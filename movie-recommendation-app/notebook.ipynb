{
 "cells": [
  {
   "cell_type": "code",
   "execution_count": 2,
   "metadata": {
    "collapsed": false,
    "pycharm": {
     "name": "#%%\n"
    }
   },
   "outputs": [],
   "source": [
    "import numpy as np\n",
    "import pandas as pd\n",
    "import matplotlib.pyplot as plt \n",
    "\n",
    "import warnings\n",
    "warnings.filterwarnings(\"ignore\")"
   ]
  },
  {
   "cell_type": "code",
   "execution_count": 3,
   "metadata": {
    "collapsed": false,
    "pycharm": {
     "name": "#%%\n"
    }
   },
   "outputs": [
    {
     "data": {
      "text/plain": "   color      director_name  num_critic_for_reviews  duration  \\\n0  Color      James Cameron                   723.0     178.0   \n1  Color     Gore Verbinski                   302.0     169.0   \n2  Color         Sam Mendes                   602.0     148.0   \n3  Color  Christopher Nolan                   813.0     164.0   \n4    NaN        Doug Walker                     NaN       NaN   \n5  Color     Andrew Stanton                   462.0     132.0   \n6  Color          Sam Raimi                   392.0     156.0   \n7  Color       Nathan Greno                   324.0     100.0   \n8  Color        Joss Whedon                   635.0     141.0   \n9  Color        David Yates                   375.0     153.0   \n\n   director_facebook_likes  actor_3_facebook_likes       actor_2_name  \\\n0                      0.0                   855.0   Joel David Moore   \n1                    563.0                  1000.0      Orlando Bloom   \n2                      0.0                   161.0       Rory Kinnear   \n3                  22000.0                 23000.0     Christian Bale   \n4                    131.0                     NaN         Rob Walker   \n5                    475.0                   530.0    Samantha Morton   \n6                      0.0                  4000.0       James Franco   \n7                     15.0                   284.0       Donna Murphy   \n8                      0.0                 19000.0  Robert Downey Jr.   \n9                    282.0                 10000.0   Daniel Radcliffe   \n\n   actor_1_facebook_likes        gross  \\\n0                  1000.0  760505847.0   \n1                 40000.0  309404152.0   \n2                 11000.0  200074175.0   \n3                 27000.0  448130642.0   \n4                   131.0          NaN   \n5                   640.0   73058679.0   \n6                 24000.0  336530303.0   \n7                   799.0  200807262.0   \n8                 26000.0  458991599.0   \n9                 25000.0  301956980.0   \n\n                                              genres  ...  \\\n0                    Action|Adventure|Fantasy|Sci-Fi  ...   \n1                           Action|Adventure|Fantasy  ...   \n2                          Action|Adventure|Thriller  ...   \n3                                    Action|Thriller  ...   \n4                                        Documentary  ...   \n5                            Action|Adventure|Sci-Fi  ...   \n6                           Action|Adventure|Romance  ...   \n7  Adventure|Animation|Comedy|Family|Fantasy|Musi...  ...   \n8                            Action|Adventure|Sci-Fi  ...   \n9                   Adventure|Family|Fantasy|Mystery  ...   \n\n  num_user_for_reviews language  country  content_rating       budget  \\\n0               3054.0  English      USA           PG-13  237000000.0   \n1               1238.0  English      USA           PG-13  300000000.0   \n2                994.0  English       UK           PG-13  245000000.0   \n3               2701.0  English      USA           PG-13  250000000.0   \n4                  NaN      NaN      NaN             NaN          NaN   \n5                738.0  English      USA           PG-13  263700000.0   \n6               1902.0  English      USA           PG-13  258000000.0   \n7                387.0  English      USA              PG  260000000.0   \n8               1117.0  English      USA           PG-13  250000000.0   \n9                973.0  English       UK              PG  250000000.0   \n\n   title_year actor_2_facebook_likes imdb_score  aspect_ratio  \\\n0      2009.0                  936.0        7.9          1.78   \n1      2007.0                 5000.0        7.1          2.35   \n2      2015.0                  393.0        6.8          2.35   \n3      2012.0                23000.0        8.5          2.35   \n4         NaN                   12.0        7.1           NaN   \n5      2012.0                  632.0        6.6          2.35   \n6      2007.0                11000.0        6.2          2.35   \n7      2010.0                  553.0        7.8          1.85   \n8      2015.0                21000.0        7.5          2.35   \n9      2009.0                11000.0        7.5          2.35   \n\n  movie_facebook_likes  \n0                33000  \n1                    0  \n2                85000  \n3               164000  \n4                    0  \n5                24000  \n6                    0  \n7                29000  \n8               118000  \n9                10000  \n\n[10 rows x 28 columns]",
      "text/html": "<div>\n<style scoped>\n    .dataframe tbody tr th:only-of-type {\n        vertical-align: middle;\n    }\n\n    .dataframe tbody tr th {\n        vertical-align: top;\n    }\n\n    .dataframe thead th {\n        text-align: right;\n    }\n</style>\n<table border=\"1\" class=\"dataframe\">\n  <thead>\n    <tr style=\"text-align: right;\">\n      <th></th>\n      <th>color</th>\n      <th>director_name</th>\n      <th>num_critic_for_reviews</th>\n      <th>duration</th>\n      <th>director_facebook_likes</th>\n      <th>actor_3_facebook_likes</th>\n      <th>actor_2_name</th>\n      <th>actor_1_facebook_likes</th>\n      <th>gross</th>\n      <th>genres</th>\n      <th>...</th>\n      <th>num_user_for_reviews</th>\n      <th>language</th>\n      <th>country</th>\n      <th>content_rating</th>\n      <th>budget</th>\n      <th>title_year</th>\n      <th>actor_2_facebook_likes</th>\n      <th>imdb_score</th>\n      <th>aspect_ratio</th>\n      <th>movie_facebook_likes</th>\n    </tr>\n  </thead>\n  <tbody>\n    <tr>\n      <th>0</th>\n      <td>Color</td>\n      <td>James Cameron</td>\n      <td>723.0</td>\n      <td>178.0</td>\n      <td>0.0</td>\n      <td>855.0</td>\n      <td>Joel David Moore</td>\n      <td>1000.0</td>\n      <td>760505847.0</td>\n      <td>Action|Adventure|Fantasy|Sci-Fi</td>\n      <td>...</td>\n      <td>3054.0</td>\n      <td>English</td>\n      <td>USA</td>\n      <td>PG-13</td>\n      <td>237000000.0</td>\n      <td>2009.0</td>\n      <td>936.0</td>\n      <td>7.9</td>\n      <td>1.78</td>\n      <td>33000</td>\n    </tr>\n    <tr>\n      <th>1</th>\n      <td>Color</td>\n      <td>Gore Verbinski</td>\n      <td>302.0</td>\n      <td>169.0</td>\n      <td>563.0</td>\n      <td>1000.0</td>\n      <td>Orlando Bloom</td>\n      <td>40000.0</td>\n      <td>309404152.0</td>\n      <td>Action|Adventure|Fantasy</td>\n      <td>...</td>\n      <td>1238.0</td>\n      <td>English</td>\n      <td>USA</td>\n      <td>PG-13</td>\n      <td>300000000.0</td>\n      <td>2007.0</td>\n      <td>5000.0</td>\n      <td>7.1</td>\n      <td>2.35</td>\n      <td>0</td>\n    </tr>\n    <tr>\n      <th>2</th>\n      <td>Color</td>\n      <td>Sam Mendes</td>\n      <td>602.0</td>\n      <td>148.0</td>\n      <td>0.0</td>\n      <td>161.0</td>\n      <td>Rory Kinnear</td>\n      <td>11000.0</td>\n      <td>200074175.0</td>\n      <td>Action|Adventure|Thriller</td>\n      <td>...</td>\n      <td>994.0</td>\n      <td>English</td>\n      <td>UK</td>\n      <td>PG-13</td>\n      <td>245000000.0</td>\n      <td>2015.0</td>\n      <td>393.0</td>\n      <td>6.8</td>\n      <td>2.35</td>\n      <td>85000</td>\n    </tr>\n    <tr>\n      <th>3</th>\n      <td>Color</td>\n      <td>Christopher Nolan</td>\n      <td>813.0</td>\n      <td>164.0</td>\n      <td>22000.0</td>\n      <td>23000.0</td>\n      <td>Christian Bale</td>\n      <td>27000.0</td>\n      <td>448130642.0</td>\n      <td>Action|Thriller</td>\n      <td>...</td>\n      <td>2701.0</td>\n      <td>English</td>\n      <td>USA</td>\n      <td>PG-13</td>\n      <td>250000000.0</td>\n      <td>2012.0</td>\n      <td>23000.0</td>\n      <td>8.5</td>\n      <td>2.35</td>\n      <td>164000</td>\n    </tr>\n    <tr>\n      <th>4</th>\n      <td>NaN</td>\n      <td>Doug Walker</td>\n      <td>NaN</td>\n      <td>NaN</td>\n      <td>131.0</td>\n      <td>NaN</td>\n      <td>Rob Walker</td>\n      <td>131.0</td>\n      <td>NaN</td>\n      <td>Documentary</td>\n      <td>...</td>\n      <td>NaN</td>\n      <td>NaN</td>\n      <td>NaN</td>\n      <td>NaN</td>\n      <td>NaN</td>\n      <td>NaN</td>\n      <td>12.0</td>\n      <td>7.1</td>\n      <td>NaN</td>\n      <td>0</td>\n    </tr>\n    <tr>\n      <th>5</th>\n      <td>Color</td>\n      <td>Andrew Stanton</td>\n      <td>462.0</td>\n      <td>132.0</td>\n      <td>475.0</td>\n      <td>530.0</td>\n      <td>Samantha Morton</td>\n      <td>640.0</td>\n      <td>73058679.0</td>\n      <td>Action|Adventure|Sci-Fi</td>\n      <td>...</td>\n      <td>738.0</td>\n      <td>English</td>\n      <td>USA</td>\n      <td>PG-13</td>\n      <td>263700000.0</td>\n      <td>2012.0</td>\n      <td>632.0</td>\n      <td>6.6</td>\n      <td>2.35</td>\n      <td>24000</td>\n    </tr>\n    <tr>\n      <th>6</th>\n      <td>Color</td>\n      <td>Sam Raimi</td>\n      <td>392.0</td>\n      <td>156.0</td>\n      <td>0.0</td>\n      <td>4000.0</td>\n      <td>James Franco</td>\n      <td>24000.0</td>\n      <td>336530303.0</td>\n      <td>Action|Adventure|Romance</td>\n      <td>...</td>\n      <td>1902.0</td>\n      <td>English</td>\n      <td>USA</td>\n      <td>PG-13</td>\n      <td>258000000.0</td>\n      <td>2007.0</td>\n      <td>11000.0</td>\n      <td>6.2</td>\n      <td>2.35</td>\n      <td>0</td>\n    </tr>\n    <tr>\n      <th>7</th>\n      <td>Color</td>\n      <td>Nathan Greno</td>\n      <td>324.0</td>\n      <td>100.0</td>\n      <td>15.0</td>\n      <td>284.0</td>\n      <td>Donna Murphy</td>\n      <td>799.0</td>\n      <td>200807262.0</td>\n      <td>Adventure|Animation|Comedy|Family|Fantasy|Musi...</td>\n      <td>...</td>\n      <td>387.0</td>\n      <td>English</td>\n      <td>USA</td>\n      <td>PG</td>\n      <td>260000000.0</td>\n      <td>2010.0</td>\n      <td>553.0</td>\n      <td>7.8</td>\n      <td>1.85</td>\n      <td>29000</td>\n    </tr>\n    <tr>\n      <th>8</th>\n      <td>Color</td>\n      <td>Joss Whedon</td>\n      <td>635.0</td>\n      <td>141.0</td>\n      <td>0.0</td>\n      <td>19000.0</td>\n      <td>Robert Downey Jr.</td>\n      <td>26000.0</td>\n      <td>458991599.0</td>\n      <td>Action|Adventure|Sci-Fi</td>\n      <td>...</td>\n      <td>1117.0</td>\n      <td>English</td>\n      <td>USA</td>\n      <td>PG-13</td>\n      <td>250000000.0</td>\n      <td>2015.0</td>\n      <td>21000.0</td>\n      <td>7.5</td>\n      <td>2.35</td>\n      <td>118000</td>\n    </tr>\n    <tr>\n      <th>9</th>\n      <td>Color</td>\n      <td>David Yates</td>\n      <td>375.0</td>\n      <td>153.0</td>\n      <td>282.0</td>\n      <td>10000.0</td>\n      <td>Daniel Radcliffe</td>\n      <td>25000.0</td>\n      <td>301956980.0</td>\n      <td>Adventure|Family|Fantasy|Mystery</td>\n      <td>...</td>\n      <td>973.0</td>\n      <td>English</td>\n      <td>UK</td>\n      <td>PG</td>\n      <td>250000000.0</td>\n      <td>2009.0</td>\n      <td>11000.0</td>\n      <td>7.5</td>\n      <td>2.35</td>\n      <td>10000</td>\n    </tr>\n  </tbody>\n</table>\n<p>10 rows × 28 columns</p>\n</div>"
     },
     "execution_count": 3,
     "metadata": {},
     "output_type": "execute_result"
    }
   ],
   "source": [
    "# Importing the dataset\n",
    "data = pd.read_csv('./data/movie_metadata.csv')\n",
    "data.head(10)"
   ]
  },
  {
   "cell_type": "code",
   "execution_count": 4,
   "metadata": {
    "collapsed": false,
    "pycharm": {
     "name": "#%%\n"
    }
   },
   "outputs": [
    {
     "data": {
      "text/plain": "(5043, 28)"
     },
     "execution_count": 4,
     "metadata": {},
     "output_type": "execute_result"
    }
   ],
   "source": [
    "data.shape"
   ]
  },
  {
   "cell_type": "code",
   "execution_count": 5,
   "metadata": {
    "collapsed": false,
    "pycharm": {
     "name": "#%%\n"
    }
   },
   "outputs": [
    {
     "name": "stdout",
     "output_type": "stream",
     "text": [
      "<class 'pandas.core.frame.DataFrame'>\n",
      "RangeIndex: 5043 entries, 0 to 5042\n",
      "Data columns (total 28 columns):\n",
      " #   Column                     Non-Null Count  Dtype  \n",
      "---  ------                     --------------  -----  \n",
      " 0   color                      5024 non-null   object \n",
      " 1   director_name              4939 non-null   object \n",
      " 2   num_critic_for_reviews     4993 non-null   float64\n",
      " 3   duration                   5028 non-null   float64\n",
      " 4   director_facebook_likes    4939 non-null   float64\n",
      " 5   actor_3_facebook_likes     5020 non-null   float64\n",
      " 6   actor_2_name               5030 non-null   object \n",
      " 7   actor_1_facebook_likes     5036 non-null   float64\n",
      " 8   gross                      4159 non-null   float64\n",
      " 9   genres                     5043 non-null   object \n",
      " 10  actor_1_name               5036 non-null   object \n",
      " 11  movie_title                5043 non-null   object \n",
      " 12  num_voted_users            5043 non-null   int64  \n",
      " 13  cast_total_facebook_likes  5043 non-null   int64  \n",
      " 14  actor_3_name               5020 non-null   object \n",
      " 15  facenumber_in_poster       5030 non-null   float64\n",
      " 16  plot_keywords              4890 non-null   object \n",
      " 17  movie_imdb_link            5043 non-null   object \n",
      " 18  num_user_for_reviews       5022 non-null   float64\n",
      " 19  language                   5031 non-null   object \n",
      " 20  country                    5038 non-null   object \n",
      " 21  content_rating             4740 non-null   object \n",
      " 22  budget                     4551 non-null   float64\n",
      " 23  title_year                 4935 non-null   float64\n",
      " 24  actor_2_facebook_likes     5030 non-null   float64\n",
      " 25  imdb_score                 5043 non-null   float64\n",
      " 26  aspect_ratio               4714 non-null   float64\n",
      " 27  movie_facebook_likes       5043 non-null   int64  \n",
      "dtypes: float64(13), int64(3), object(12)\n",
      "memory usage: 1.1+ MB\n"
     ]
    }
   ],
   "source": [
    "data.info()"
   ]
  },
  {
   "cell_type": "code",
   "execution_count": 6,
   "metadata": {
    "collapsed": false,
    "pycharm": {
     "name": "#%%\n"
    }
   },
   "outputs": [
    {
     "data": {
      "text/plain": "       num_critic_for_reviews     duration  director_facebook_likes  \\\ncount             4993.000000  5028.000000              4939.000000   \nmean               140.194272   107.201074               686.509212   \nstd                121.601675    25.197441              2813.328607   \nmin                  1.000000     7.000000                 0.000000   \n25%                 50.000000    93.000000                 7.000000   \n50%                110.000000   103.000000                49.000000   \n75%                195.000000   118.000000               194.500000   \nmax                813.000000   511.000000             23000.000000   \n\n       actor_3_facebook_likes  actor_1_facebook_likes         gross  \\\ncount             5020.000000             5036.000000  4.159000e+03   \nmean               645.009761             6560.047061  4.846841e+07   \nstd               1665.041728            15020.759120  6.845299e+07   \nmin                  0.000000                0.000000  1.620000e+02   \n25%                133.000000              614.000000  5.340988e+06   \n50%                371.500000              988.000000  2.551750e+07   \n75%                636.000000            11000.000000  6.230944e+07   \nmax              23000.000000           640000.000000  7.605058e+08   \n\n       num_voted_users  cast_total_facebook_likes  facenumber_in_poster  \\\ncount     5.043000e+03                5043.000000           5030.000000   \nmean      8.366816e+04                9699.063851              1.371173   \nstd       1.384853e+05               18163.799124              2.013576   \nmin       5.000000e+00                   0.000000              0.000000   \n25%       8.593500e+03                1411.000000              0.000000   \n50%       3.435900e+04                3090.000000              1.000000   \n75%       9.630900e+04               13756.500000              2.000000   \nmax       1.689764e+06              656730.000000             43.000000   \n\n       num_user_for_reviews        budget   title_year  \\\ncount           5022.000000  4.551000e+03  4935.000000   \nmean             272.770808  3.975262e+07  2002.470517   \nstd              377.982886  2.061149e+08    12.474599   \nmin                1.000000  2.180000e+02  1916.000000   \n25%               65.000000  6.000000e+06  1999.000000   \n50%              156.000000  2.000000e+07  2005.000000   \n75%              326.000000  4.500000e+07  2011.000000   \nmax             5060.000000  1.221550e+10  2016.000000   \n\n       actor_2_facebook_likes   imdb_score  aspect_ratio  movie_facebook_likes  \ncount             5030.000000  5043.000000   4714.000000           5043.000000  \nmean              1651.754473     6.442138      2.220403           7525.964505  \nstd               4042.438863     1.125116      1.385113          19320.445110  \nmin                  0.000000     1.600000      1.180000              0.000000  \n25%                281.000000     5.800000      1.850000              0.000000  \n50%                595.000000     6.600000      2.350000            166.000000  \n75%                918.000000     7.200000      2.350000           3000.000000  \nmax             137000.000000     9.500000     16.000000         349000.000000  ",
      "text/html": "<div>\n<style scoped>\n    .dataframe tbody tr th:only-of-type {\n        vertical-align: middle;\n    }\n\n    .dataframe tbody tr th {\n        vertical-align: top;\n    }\n\n    .dataframe thead th {\n        text-align: right;\n    }\n</style>\n<table border=\"1\" class=\"dataframe\">\n  <thead>\n    <tr style=\"text-align: right;\">\n      <th></th>\n      <th>num_critic_for_reviews</th>\n      <th>duration</th>\n      <th>director_facebook_likes</th>\n      <th>actor_3_facebook_likes</th>\n      <th>actor_1_facebook_likes</th>\n      <th>gross</th>\n      <th>num_voted_users</th>\n      <th>cast_total_facebook_likes</th>\n      <th>facenumber_in_poster</th>\n      <th>num_user_for_reviews</th>\n      <th>budget</th>\n      <th>title_year</th>\n      <th>actor_2_facebook_likes</th>\n      <th>imdb_score</th>\n      <th>aspect_ratio</th>\n      <th>movie_facebook_likes</th>\n    </tr>\n  </thead>\n  <tbody>\n    <tr>\n      <th>count</th>\n      <td>4993.000000</td>\n      <td>5028.000000</td>\n      <td>4939.000000</td>\n      <td>5020.000000</td>\n      <td>5036.000000</td>\n      <td>4.159000e+03</td>\n      <td>5.043000e+03</td>\n      <td>5043.000000</td>\n      <td>5030.000000</td>\n      <td>5022.000000</td>\n      <td>4.551000e+03</td>\n      <td>4935.000000</td>\n      <td>5030.000000</td>\n      <td>5043.000000</td>\n      <td>4714.000000</td>\n      <td>5043.000000</td>\n    </tr>\n    <tr>\n      <th>mean</th>\n      <td>140.194272</td>\n      <td>107.201074</td>\n      <td>686.509212</td>\n      <td>645.009761</td>\n      <td>6560.047061</td>\n      <td>4.846841e+07</td>\n      <td>8.366816e+04</td>\n      <td>9699.063851</td>\n      <td>1.371173</td>\n      <td>272.770808</td>\n      <td>3.975262e+07</td>\n      <td>2002.470517</td>\n      <td>1651.754473</td>\n      <td>6.442138</td>\n      <td>2.220403</td>\n      <td>7525.964505</td>\n    </tr>\n    <tr>\n      <th>std</th>\n      <td>121.601675</td>\n      <td>25.197441</td>\n      <td>2813.328607</td>\n      <td>1665.041728</td>\n      <td>15020.759120</td>\n      <td>6.845299e+07</td>\n      <td>1.384853e+05</td>\n      <td>18163.799124</td>\n      <td>2.013576</td>\n      <td>377.982886</td>\n      <td>2.061149e+08</td>\n      <td>12.474599</td>\n      <td>4042.438863</td>\n      <td>1.125116</td>\n      <td>1.385113</td>\n      <td>19320.445110</td>\n    </tr>\n    <tr>\n      <th>min</th>\n      <td>1.000000</td>\n      <td>7.000000</td>\n      <td>0.000000</td>\n      <td>0.000000</td>\n      <td>0.000000</td>\n      <td>1.620000e+02</td>\n      <td>5.000000e+00</td>\n      <td>0.000000</td>\n      <td>0.000000</td>\n      <td>1.000000</td>\n      <td>2.180000e+02</td>\n      <td>1916.000000</td>\n      <td>0.000000</td>\n      <td>1.600000</td>\n      <td>1.180000</td>\n      <td>0.000000</td>\n    </tr>\n    <tr>\n      <th>25%</th>\n      <td>50.000000</td>\n      <td>93.000000</td>\n      <td>7.000000</td>\n      <td>133.000000</td>\n      <td>614.000000</td>\n      <td>5.340988e+06</td>\n      <td>8.593500e+03</td>\n      <td>1411.000000</td>\n      <td>0.000000</td>\n      <td>65.000000</td>\n      <td>6.000000e+06</td>\n      <td>1999.000000</td>\n      <td>281.000000</td>\n      <td>5.800000</td>\n      <td>1.850000</td>\n      <td>0.000000</td>\n    </tr>\n    <tr>\n      <th>50%</th>\n      <td>110.000000</td>\n      <td>103.000000</td>\n      <td>49.000000</td>\n      <td>371.500000</td>\n      <td>988.000000</td>\n      <td>2.551750e+07</td>\n      <td>3.435900e+04</td>\n      <td>3090.000000</td>\n      <td>1.000000</td>\n      <td>156.000000</td>\n      <td>2.000000e+07</td>\n      <td>2005.000000</td>\n      <td>595.000000</td>\n      <td>6.600000</td>\n      <td>2.350000</td>\n      <td>166.000000</td>\n    </tr>\n    <tr>\n      <th>75%</th>\n      <td>195.000000</td>\n      <td>118.000000</td>\n      <td>194.500000</td>\n      <td>636.000000</td>\n      <td>11000.000000</td>\n      <td>6.230944e+07</td>\n      <td>9.630900e+04</td>\n      <td>13756.500000</td>\n      <td>2.000000</td>\n      <td>326.000000</td>\n      <td>4.500000e+07</td>\n      <td>2011.000000</td>\n      <td>918.000000</td>\n      <td>7.200000</td>\n      <td>2.350000</td>\n      <td>3000.000000</td>\n    </tr>\n    <tr>\n      <th>max</th>\n      <td>813.000000</td>\n      <td>511.000000</td>\n      <td>23000.000000</td>\n      <td>23000.000000</td>\n      <td>640000.000000</td>\n      <td>7.605058e+08</td>\n      <td>1.689764e+06</td>\n      <td>656730.000000</td>\n      <td>43.000000</td>\n      <td>5060.000000</td>\n      <td>1.221550e+10</td>\n      <td>2016.000000</td>\n      <td>137000.000000</td>\n      <td>9.500000</td>\n      <td>16.000000</td>\n      <td>349000.000000</td>\n    </tr>\n  </tbody>\n</table>\n</div>"
     },
     "execution_count": 6,
     "metadata": {},
     "output_type": "execute_result"
    }
   ],
   "source": [
    "data.describe()"
   ]
  },
  {
   "cell_type": "code",
   "execution_count": 7,
   "metadata": {
    "collapsed": false,
    "pycharm": {
     "name": "#%%\n"
    }
   },
   "outputs": [
    {
     "data": {
      "text/plain": "color                         19\ndirector_name                104\nnum_critic_for_reviews        50\nduration                      15\ndirector_facebook_likes      104\nactor_3_facebook_likes        23\nactor_2_name                  13\nactor_1_facebook_likes         7\ngross                        884\ngenres                         0\nactor_1_name                   7\nmovie_title                    0\nnum_voted_users                0\ncast_total_facebook_likes      0\nactor_3_name                  23\nfacenumber_in_poster          13\nplot_keywords                153\nmovie_imdb_link                0\nnum_user_for_reviews          21\nlanguage                      12\ncountry                        5\ncontent_rating               303\nbudget                       492\ntitle_year                   108\nactor_2_facebook_likes        13\nimdb_score                     0\naspect_ratio                 329\nmovie_facebook_likes           0\ndtype: int64"
     },
     "execution_count": 7,
     "metadata": {},
     "output_type": "execute_result"
    }
   ],
   "source": [
    "# Performing EDA on the dataset\n",
    "data.isnull().sum()"
   ]
  },
  {
   "cell_type": "code",
   "execution_count": 8,
   "metadata": {
    "collapsed": false,
    "pycharm": {
     "name": "#%%\n"
    }
   },
   "outputs": [
    {
     "data": {
      "text/plain": "color                           2\ndirector_name                2398\nnum_critic_for_reviews        528\nduration                      191\ndirector_facebook_likes       435\nactor_3_facebook_likes        906\nactor_2_name                 3032\nactor_1_facebook_likes        878\ngross                        4035\ngenres                        914\nactor_1_name                 2097\nmovie_title                  4917\nnum_voted_users              4826\ncast_total_facebook_likes    3978\nactor_3_name                 3521\nfacenumber_in_poster           19\nplot_keywords                4760\nmovie_imdb_link              4919\nnum_user_for_reviews          954\nlanguage                       47\ncountry                        65\ncontent_rating                 18\nbudget                        439\ntitle_year                     91\nactor_2_facebook_likes        917\nimdb_score                     78\naspect_ratio                   22\nmovie_facebook_likes          876\ndtype: int64"
     },
     "execution_count": 8,
     "metadata": {},
     "output_type": "execute_result"
    }
   ],
   "source": [
    "data.nunique()  # number of unique values in each column"
   ]
  },
  {
   "cell_type": "markdown",
   "metadata": {
    "collapsed": false,
    "pycharm": {
     "name": "#%% md\n"
    }
   },
   "source": [
    "For the recommendation system, I will select some features from the base dataset<br/>\n",
    "I will be building a content based filter recommendation system.<br/>\n",
    "Where movies will be recommended based on imdb ratings and genres.<br/>\n",
    "I for one am a fan on top rated movies."
   ]
  },
  {
   "cell_type": "code",
   "execution_count": 9,
   "metadata": {
    "collapsed": false,
    "pycharm": {
     "name": "#%%\n"
    }
   },
   "outputs": [
    {
     "data": {
      "text/plain": "                                         movie_title  \\\n0                                            Avatar    \n1          Pirates of the Caribbean: At World's End    \n2                                           Spectre    \n3                             The Dark Knight Rises    \n4  Star Wars: Episode VII - The Force Awakens    ...   \n\n                            genres  imdb_score  \\\n0  Action|Adventure|Fantasy|Sci-Fi         7.9   \n1         Action|Adventure|Fantasy         7.1   \n2        Action|Adventure|Thriller         6.8   \n3                  Action|Thriller         8.5   \n4                      Documentary         7.1   \n\n                                     movie_imdb_link  \n0  http://www.imdb.com/title/tt0499549/?ref_=fn_t...  \n1  http://www.imdb.com/title/tt0449088/?ref_=fn_t...  \n2  http://www.imdb.com/title/tt2379713/?ref_=fn_t...  \n3  http://www.imdb.com/title/tt1345836/?ref_=fn_t...  \n4  http://www.imdb.com/title/tt5289954/?ref_=fn_t...  ",
      "text/html": "<div>\n<style scoped>\n    .dataframe tbody tr th:only-of-type {\n        vertical-align: middle;\n    }\n\n    .dataframe tbody tr th {\n        vertical-align: top;\n    }\n\n    .dataframe thead th {\n        text-align: right;\n    }\n</style>\n<table border=\"1\" class=\"dataframe\">\n  <thead>\n    <tr style=\"text-align: right;\">\n      <th></th>\n      <th>movie_title</th>\n      <th>genres</th>\n      <th>imdb_score</th>\n      <th>movie_imdb_link</th>\n    </tr>\n  </thead>\n  <tbody>\n    <tr>\n      <th>0</th>\n      <td>Avatar</td>\n      <td>Action|Adventure|Fantasy|Sci-Fi</td>\n      <td>7.9</td>\n      <td>http://www.imdb.com/title/tt0499549/?ref_=fn_t...</td>\n    </tr>\n    <tr>\n      <th>1</th>\n      <td>Pirates of the Caribbean: At World's End</td>\n      <td>Action|Adventure|Fantasy</td>\n      <td>7.1</td>\n      <td>http://www.imdb.com/title/tt0449088/?ref_=fn_t...</td>\n    </tr>\n    <tr>\n      <th>2</th>\n      <td>Spectre</td>\n      <td>Action|Adventure|Thriller</td>\n      <td>6.8</td>\n      <td>http://www.imdb.com/title/tt2379713/?ref_=fn_t...</td>\n    </tr>\n    <tr>\n      <th>3</th>\n      <td>The Dark Knight Rises</td>\n      <td>Action|Thriller</td>\n      <td>8.5</td>\n      <td>http://www.imdb.com/title/tt1345836/?ref_=fn_t...</td>\n    </tr>\n    <tr>\n      <th>4</th>\n      <td>Star Wars: Episode VII - The Force Awakens    ...</td>\n      <td>Documentary</td>\n      <td>7.1</td>\n      <td>http://www.imdb.com/title/tt5289954/?ref_=fn_t...</td>\n    </tr>\n  </tbody>\n</table>\n</div>"
     },
     "execution_count": 9,
     "metadata": {},
     "output_type": "execute_result"
    }
   ],
   "source": [
    "# Selecting some features from the dataset\n",
    "features = ['movie_title', 'genres', 'imdb_score', 'movie_imdb_link']\n",
    "\n",
    "df = data[features].copy()\n",
    "df.head()"
   ]
  },
  {
   "cell_type": "code",
   "execution_count": 10,
   "metadata": {},
   "outputs": [
    {
     "name": "stdout",
     "output_type": "stream",
     "text": [
      "<class 'pandas.core.frame.DataFrame'>\n",
      "RangeIndex: 5043 entries, 0 to 5042\n",
      "Data columns (total 4 columns):\n",
      " #   Column           Non-Null Count  Dtype  \n",
      "---  ------           --------------  -----  \n",
      " 0   movie_title      5043 non-null   object \n",
      " 1   genres           5043 non-null   object \n",
      " 2   imdb_score       5043 non-null   float64\n",
      " 3   movie_imdb_link  5043 non-null   object \n",
      "dtypes: float64(1), object(3)\n",
      "memory usage: 157.7+ KB\n"
     ]
    }
   ],
   "source": [
    "df.info() # number of rows and columns"
   ]
  },
  {
   "cell_type": "code",
   "execution_count": 11,
   "metadata": {},
   "outputs": [
    {
     "data": {
      "text/plain": "Drama                          236\nComedy                         209\nComedy|Drama                   191\nComedy|Drama|Romance           187\nComedy|Romance                 158\nDrama|Romance                  152\nCrime|Drama|Thriller           101\nHorror                          71\nAction|Crime|Drama|Thriller     68\nAction|Crime|Thriller           65\nName: genres, dtype: int64"
     },
     "execution_count": 11,
     "metadata": {},
     "output_type": "execute_result"
    }
   ],
   "source": [
    "df['genres'].value_counts()[:10]"
   ]
  },
  {
   "cell_type": "code",
   "execution_count": 12,
   "metadata": {},
   "outputs": [
    {
     "data": {
      "text/plain": "Text(0.5, 1.0, 'Top 10 Genres Categories')"
     },
     "execution_count": 12,
     "metadata": {},
     "output_type": "execute_result"
    },
    {
     "data": {
      "text/plain": "<Figure size 432x288 with 1 Axes>",
      "image/png": "[encoded data removed]"
     },
     "metadata": {
      "needs_background": "light"
     },
     "output_type": "display_data"
    }
   ],
   "source": [
    "df.genres.value_counts()[:10].plot(kind='bar')\n",
    "plt.title('Top 10 Genres Categories')"
   ]
  },
  {
   "cell_type": "code",
   "execution_count": 25,
   "outputs": [
    {
     "data": {
      "text/plain": "<Figure size 720x576 with 1 Axes>",
      "image/png": "[encoded data removed]"
     },
     "metadata": {
      "needs_background": "light"
     },
     "output_type": "display_data"
    }
   ],
   "source": [
    "df.hist(bins=50, figsize=(10, 8))\n",
    "plt.title('Distribution Of IMDb Scores')\n",
    "plt.show()"
   ],
   "metadata": {
    "collapsed": false,
    "pycharm": {
     "name": "#%%\n"
    }
   }
  },
  {
   "cell_type": "code",
   "execution_count": null,
   "outputs": [],
   "source": [],
   "metadata": {
    "collapsed": false,
    "pycharm": {
     "name": "#%%\n"
    }
   }
  },
  {
   "cell_type": "code",
   "execution_count": 13,
   "metadata": {},
   "outputs": [],
   "source": [
    "# Fetch genres of all movies, unique genres\n",
    "# for i in df.index:\n",
    "#     print(df.loc[i, 'genres'])"
   ]
  },
  {
   "cell_type": "code",
   "execution_count": 14,
   "metadata": {},
   "outputs": [
    {
     "name": "stdout",
     "output_type": "stream",
     "text": [
      "['Action', 'Adventure', 'Animation', 'Biography', 'Comedy', 'Crime', 'Documentary', 'Drama', 'Family', 'Fantasy', 'Film-Noir', 'Game-Show', 'History', 'Horror', 'Music', 'Musical', 'Mystery', 'News', 'Reality-TV', 'Romance', 'Sci-Fi', 'Short', 'Sport', 'Thriller', 'War', 'Western']\n"
     ]
    }
   ],
   "source": [
    "genres_all_movies = [df.loc[i, 'genres'].split('|') for i in df.index]\n",
    "\n",
    "genres = [item for sublist in genres_all_movies for item in sublist]\n",
    "genres = sorted(list(set(genres)))\n",
    "print(genres)"
   ]
  },
  {
   "cell_type": "code",
   "execution_count": 15,
   "metadata": {},
   "outputs": [
    {
     "data": {
      "text/plain": "26"
     },
     "execution_count": 15,
     "metadata": {},
     "output_type": "execute_result"
    }
   ],
   "source": [
    "len(genres)"
   ]
  },
  {
   "cell_type": "code",
   "execution_count": 16,
   "metadata": {},
   "outputs": [],
   "source": [
    "# Initialize lists for movie data as well as titles \n",
    "full_data = []\n",
    "movie_titles = []"
   ]
  },
  {
   "cell_type": "code",
   "execution_count": 17,
   "metadata": {},
   "outputs": [
    {
     "name": "stdout",
     "output_type": "stream",
     "text": [
      "                                            movie_title  \\\n",
      "0                                               Avatar    \n",
      "1             Pirates of the Caribbean: At World's End    \n",
      "2                                              Spectre    \n",
      "3                                The Dark Knight Rises    \n",
      "4     Star Wars: Episode VII - The Force Awakens    ...   \n",
      "...                                                 ...   \n",
      "5038                           Signed Sealed Delivered    \n",
      "5039                         The Following                \n",
      "5040                              A Plague So Pleasant    \n",
      "5041                                  Shanghai Calling    \n",
      "5042                                 My Date with Drew    \n",
      "\n",
      "                               genres  imdb_score  \\\n",
      "0     Action|Adventure|Fantasy|Sci-Fi         7.9   \n",
      "1            Action|Adventure|Fantasy         7.1   \n",
      "2           Action|Adventure|Thriller         6.8   \n",
      "3                     Action|Thriller         8.5   \n",
      "4                         Documentary         7.1   \n",
      "...                               ...         ...   \n",
      "5038                     Comedy|Drama         7.7   \n",
      "5039     Crime|Drama|Mystery|Thriller         7.5   \n",
      "5040            Drama|Horror|Thriller         6.3   \n",
      "5041             Comedy|Drama|Romance         6.3   \n",
      "5042                      Documentary         6.6   \n",
      "\n",
      "                                        movie_imdb_link  \n",
      "0     http://www.imdb.com/title/tt0499549/?ref_=fn_t...  \n",
      "1     http://www.imdb.com/title/tt0449088/?ref_=fn_t...  \n",
      "2     http://www.imdb.com/title/tt2379713/?ref_=fn_t...  \n",
      "3     http://www.imdb.com/title/tt1345836/?ref_=fn_t...  \n",
      "4     http://www.imdb.com/title/tt5289954/?ref_=fn_t...  \n",
      "...                                                 ...  \n",
      "5038  http://www.imdb.com/title/tt3000844/?ref_=fn_t...  \n",
      "5039  http://www.imdb.com/title/tt2071645/?ref_=fn_t...  \n",
      "5040  http://www.imdb.com/title/tt2107644/?ref_=fn_t...  \n",
      "5041  http://www.imdb.com/title/tt2070597/?ref_=fn_t...  \n",
      "5042  http://www.imdb.com/title/tt0378407/?ref_=fn_t...  \n",
      "\n",
      "[5043 rows x 4 columns]\n"
     ]
    }
   ],
   "source": [
    "print(df)"
   ]
  },
  {
   "cell_type": "code",
   "execution_count": 18,
   "metadata": {},
   "outputs": [],
   "source": [
    "df.to_csv('test.csv')"
   ]
  },
  {
   "cell_type": "code",
   "execution_count": 19,
   "metadata": {},
   "outputs": [],
   "source": [
    "for i in df.index:\n",
    "    # Append movie title and the index of the movie and the imdb link\n",
    "    movie_titles.append((df.loc[i]['movie_title'].strip(), i, df.loc[i]['movie_imdb_link'].strip()))\n",
    "\n",
    "    # Append the list of genres of the movies (1/0) to movie data \n",
    "    movie_data = [1 if genre in df.loc[i]['genres'].split('|') else 0 for genre in genres]\n",
    "\n",
    "    # Add IMDb score of the movie to the movie data\n",
    "    movie_data.append(df.loc[i]['imdb_score'])\n",
    "    \n",
    "    # Append the movie data to the full data\n",
    "    full_data.append(movie_data)"
   ]
  },
  {
   "cell_type": "code",
   "execution_count": 20,
   "metadata": {},
   "outputs": [
    {
     "name": "stdout",
     "output_type": "stream",
     "text": [
      "(\"Pirates of the Caribbean: At World's End\", 1, 'http://www.imdb.com/title/tt0449088/?ref_=fn_tt_tt_1')\n"
     ]
    }
   ],
   "source": [
    "print(movie_titles[1])"
   ]
  },
  {
   "cell_type": "code",
   "execution_count": 21,
   "metadata": {},
   "outputs": [],
   "source": [
    "import json\n",
    "\n",
    "# print(movie_titles)\n",
    "data_dump = './data/movie_data.json'\n",
    "titles_dump = './data/movie_titles.json'\n",
    "with open(data_dump, 'w+', encoding='utf-8') as f:\n",
    "    json.dump(full_data, f)\n",
    "with open(titles_dump, 'w+', encoding='utf-8') as f:\n",
    "    json.dump(movie_titles, f)"
   ]
  },
  {
   "cell_type": "code",
   "execution_count": null,
   "outputs": [],
   "source": [],
   "metadata": {
    "collapsed": false,
    "pycharm": {
     "name": "#%%\n"
    }
   }
  },
  {
   "cell_type": "code",
   "execution_count": 25,
   "outputs": [],
   "source": [],
   "metadata": {
    "collapsed": false,
    "pycharm": {
     "name": "#%%\n"
    }
   }
  },
  {
   "cell_type": "code",
   "execution_count": null,
   "outputs": [],
   "source": [],
   "metadata": {
    "collapsed": false,
    "pycharm": {
     "name": "#%%\n"
    }
   }
  }
 ],
 "metadata": {
  "kernelspec": {
   "display_name": "Python 3.10.4 ('venv': venv)",
   "language": "python",
   "name": "python3"
  },
  "language_info": {
   "codemirror_mode": {
    "name": "ipython",
    "version": 3
   },
   "file_extension": ".py",
   "mimetype": "text/x-python",
   "name": "python",
   "nbconvert_exporter": "python",
   "pygments_lexer": "ipython3",
   "version": "3.10.4"
  },
  "vscode": {
   "interpreter": {
    "hash": "63b215d12dd23c9bf526cb71c3d75d29be76767a0a67e3f7082ddfdd56b9f776"
   }
  }
 },
 "nbformat": 4,
 "nbformat_minor": 0
}